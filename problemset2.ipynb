{
 "cells": [
  {
   "cell_type": "markdown",
   "id": "4b39f235",
   "metadata": {},
   "source": [
    "# Question 1"
   ]
  },
  {
   "cell_type": "code",
   "execution_count": 1,
   "id": "e7f4c933",
   "metadata": {},
   "outputs": [
    {
     "name": "stdout",
     "output_type": "stream",
     "text": [
      "6\n"
     ]
    }
   ],
   "source": [
    "#from module import * imports everything in the module module, including the variables a, b, and c.\n",
    "a = 0\n",
    "def b():\n",
    "    global a\n",
    "    a = c(a)\n",
    "    \n",
    "def c(a):\n",
    "    return a + 2\n",
    "\n",
    "\n",
    "b()  # b() is called, which calls c(0), returning 2, which is assigned to a.\n",
    "b()  # b() is called again, which calls c(2), returning 4, which is assigned to a.\n",
    "b()  # b() is called a third time, which calls c(4), returning 6, which is assigned to a.\n",
    "\n",
    "print(a)  # a is evaluated, which now has the value of 6."
   ]
  },
  {
   "cell_type": "markdown",
   "id": "f7200fb9",
   "metadata": {},
   "source": [
    "# Question 2"
   ]
  },
  {
   "cell_type": "code",
   "execution_count": 2,
   "id": "651ff8d3",
   "metadata": {},
   "outputs": [],
   "source": [
    "def file_length(file_name):\n",
    "    try:\n",
    "        file = open(file_name)\n",
    "    except FileNotFoundError:\n",
    "        print(f\"File '{file_name}' not found\")\n",
    "        return\n",
    "    contents = file.read()\n",
    "    file.close()\n",
    "    print(len(contents))"
   ]
  },
  {
   "cell_type": "code",
   "execution_count": 3,
   "id": "2b02caae",
   "metadata": {},
   "outputs": [
    {
     "name": "stdout",
     "output_type": "stream",
     "text": [
      "100\n"
     ]
    }
   ],
   "source": [
    "file_length(\"bloodtype1.txt\")\n"
   ]
  },
  {
   "cell_type": "code",
   "execution_count": 4,
   "id": "77358180",
   "metadata": {},
   "outputs": [
    {
     "name": "stdout",
     "output_type": "stream",
     "text": [
      "File 'bloodtype40.txt' not found\n"
     ]
    }
   ],
   "source": [
    "#alternate example for 'else'\n",
    "file_length(\"bloodtype40.txt\")"
   ]
  },
  {
   "cell_type": "markdown",
   "id": "2f4c4f4e",
   "metadata": {},
   "source": [
    "# Question 3"
   ]
  },
  {
   "cell_type": "code",
   "execution_count": 5,
   "id": "1f283a64",
   "metadata": {},
   "outputs": [
    {
     "name": "stdout",
     "output_type": "stream",
     "text": [
      "['doll', 'firetruck', 'kitten']\n",
      "I am a Kangaroo located at coordinates (0, 0)\n",
      "['doll', 'firetruck', 'kitten']\n",
      "I am a Kangaroo located at coordinates (3, 0)\n"
     ]
    }
   ],
   "source": [
    "class Marsupial:\n",
    "    def __init__(self):\n",
    "        self.pouch = []    \n",
    "        \n",
    "    def put_in_pouch(self, val):        \n",
    "        self.pouch.append(val)    \n",
    "        \n",
    "    def pouch_contents(self):        \n",
    "        return self.pouch\n",
    "    \n",
    "    def __str__(self):\n",
    "        return str(self.pouch)\n",
    "        \n",
    "m = Marsupial()  \n",
    "m.put_in_pouch(\"doll\")    \n",
    "m.put_in_pouch(\"firetruck\")    \n",
    "m.put_in_pouch(\"kitten\")    \n",
    "print(m.pouch_contents())\n",
    "\n",
    "    \n",
    "class Kangaroo(Marsupial):\n",
    "    def __init__(self, x=0, y=0):\n",
    "        super().__init__()        \n",
    "        self.x = x        \n",
    "        self.y = y    \n",
    "    \n",
    "    def jump(self, dx, dy):        \n",
    "        self.x += dx        \n",
    "        self.y += dy    \n",
    "    \n",
    "    def __str__(self):       \n",
    "        return \"I am a Kangaroo located at coordinates ({}, {})\".format(self.x, self.y)\n",
    "        \n",
    "k = Kangaroo(0,0)\n",
    "print(k)\n",
    "k.put_in_pouch(\"doll\")\n",
    "k.put_in_pouch(\"firetruck\")\n",
    "k.put_in_pouch(\"kitten\")\n",
    "print(k.pouch_contents())\n",
    "k.jump(1, 0)\n",
    "k.jump(1, 0)\n",
    "k.jump(1, 0)\n",
    "print(k)"
   ]
  },
  {
   "cell_type": "markdown",
   "id": "f3e82273",
   "metadata": {},
   "source": [
    "# Question 4"
   ]
  },
  {
   "cell_type": "code",
   "execution_count": 6,
   "id": "9fba4133",
   "metadata": {},
   "outputs": [
    {
     "name": "stdout",
     "output_type": "stream",
     "text": [
      "10\n",
      "5\n",
      "16\n",
      "8\n",
      "4\n",
      "2\n",
      "1\n"
     ]
    }
   ],
   "source": [
    "def collatz(x):\n",
    "    lst = [x]  # store the starting number in the list\n",
    "    \n",
    "    while x != 1:\n",
    "        if x % 2 == 0:\n",
    "            x //= 2\n",
    "        else:\n",
    "            x = 3 * x + 1\n",
    "        lst.append(x)\n",
    "        \n",
    "    for num in lst:\n",
    "        print(num)\n",
    "        \n",
    "collatz(10)"
   ]
  },
  {
   "cell_type": "markdown",
   "id": "61562209",
   "metadata": {},
   "source": [
    "# Question 5"
   ]
  },
  {
   "cell_type": "code",
   "execution_count": 7,
   "id": "76cfe06b",
   "metadata": {},
   "outputs": [],
   "source": [
    "def binary(n):\n",
    "    if n > 1:\n",
    "        binary(n // 2)\n",
    "    print(n % 2, end=\"\")"
   ]
  },
  {
   "cell_type": "code",
   "execution_count": 8,
   "id": "9a2a9c0c",
   "metadata": {},
   "outputs": [
    {
     "name": "stdout",
     "output_type": "stream",
     "text": [
      "0"
     ]
    }
   ],
   "source": [
    "binary(0)"
   ]
  },
  {
   "cell_type": "code",
   "execution_count": 9,
   "id": "9c13618f",
   "metadata": {},
   "outputs": [
    {
     "name": "stdout",
     "output_type": "stream",
     "text": [
      "1"
     ]
    }
   ],
   "source": [
    "binary(1)"
   ]
  },
  {
   "cell_type": "code",
   "execution_count": 10,
   "id": "60d6ad68",
   "metadata": {},
   "outputs": [
    {
     "name": "stdout",
     "output_type": "stream",
     "text": [
      "11"
     ]
    }
   ],
   "source": [
    "binary(3)"
   ]
  },
  {
   "cell_type": "code",
   "execution_count": 11,
   "id": "3beb448e",
   "metadata": {},
   "outputs": [
    {
     "name": "stdout",
     "output_type": "stream",
     "text": [
      "1001"
     ]
    }
   ],
   "source": [
    "binary(9)"
   ]
  },
  {
   "cell_type": "markdown",
   "id": "6eb34bd1",
   "metadata": {},
   "source": [
    "# Question 6"
   ]
  },
  {
   "cell_type": "code",
   "execution_count": 12,
   "id": "2d388b5a",
   "metadata": {},
   "outputs": [
    {
     "name": "stdout",
     "output_type": "stream",
     "text": [
      "W3C Mission\n",
      "\n",
      "\t\n",
      "Principles\n"
     ]
    }
   ],
   "source": [
    "from html.parser import HTMLParser\n",
    "\n",
    "class HeadingParser(HTMLParser):\n",
    "    inHeading = False\n",
    "    headingLevel = 0\n",
    "    \n",
    "    def handle_starttag(self, tag, attrs):\n",
    "        if tag.startswith(\"h1\"):\n",
    "            self.inHeading = True\n",
    "            self.headingLevel = int(tag[1])\n",
    "            \n",
    "    def handle_data(self, data):\n",
    "        if self.inHeading and self.headingLevel == 1:\n",
    "            print(data)\n",
    "            \n",
    "    def handle_endtag(self, tag):\n",
    "        if tag.startswith(\"h2\"):\n",
    "            self.inHeading = False\n",
    "            self.headingLevel = 0\n",
    "            \n",
    "hParser = HeadingParser()\n",
    "file = open(\"w3c.html\")\n",
    "html = file.read()\n",
    "file.close()\n",
    "hParser.feed(html)"
   ]
  },
  {
   "cell_type": "markdown",
   "id": "754fa1c5",
   "metadata": {},
   "source": [
    "# Question 7"
   ]
  },
  {
   "cell_type": "code",
   "execution_count": 13,
   "id": "91d37b18",
   "metadata": {},
   "outputs": [],
   "source": [
    "from urllib.request import urlopen\n",
    "from urllib.parse import urlparse, urljoin\n",
    "from bs4 import BeautifulSoup\n",
    "\n",
    "def webdir(url, depth, indent):\n",
    "    if depth == 0:\n",
    "        return\n",
    "\n",
    "    base_url = urlparse(url)\n",
    "    response = urlopen(url)\n",
    "    page = response.read()\n",
    "    \n",
    "    soup = BeautifulSoup(page, \"html.parser\")\n",
    "\n",
    "    print(\" \" * indent, url)\n",
    "\n",
    "    links = soup.find_all(\"a\")\n",
    "    for link in links:\n",
    "        href = link.get(\"href\")\n",
    "        if href is not None and href.startswith(\"http\"):\n",
    "            child_url = urljoin(base_url.scheme + \"://\" + base_url.netloc, href)\n",
    "            webdir(child_url, depth - 1, indent + 1)"
   ]
  },
  {
   "cell_type": "code",
   "execution_count": 14,
   "id": "b34e4ff1",
   "metadata": {},
   "outputs": [
    {
     "name": "stdout",
     "output_type": "stream",
     "text": [
      " https://twitter.com/\n",
      "  https://help.twitter.com/using-twitter/twitter-supported-browsers\n",
      "  https://twitter.com/tos\n",
      "  https://twitter.com/privacy\n",
      "  https://support.twitter.com/articles/20170514\n",
      "  https://legal.twitter.com/imprint.html\n",
      "  https://business.twitter.com/en/help/troubleshooting/how-twitter-ads-work.html?ref=web-twc-ao-gbl-adsinfo&utm_source=twc&utm_medium=web&utm_campaign=ao&utm_content=adsinfo\n"
     ]
    }
   ],
   "source": [
    "webdir('https://twitter.com/', 2, 0)"
   ]
  },
  {
   "cell_type": "markdown",
   "id": "10ba1215",
   "metadata": {},
   "source": [
    "# Question 8"
   ]
  },
  {
   "cell_type": "markdown",
   "id": "0ba5b5c2",
   "metadata": {},
   "source": [
    "Assuming the name of the table is \"weather\", the SQL queries are as follows:\n",
    "\n",
    "a) All the temperature data:\n",
    "\n",
    "SELECT Temperature FROM weather;\n",
    "\n",
    "b) All the cities, but without repetition:\n",
    "\n",
    "SELECT DISTINCT City FROM weather;\n",
    "\n",
    "c) All the records for India:\n",
    "\n",
    "SELECT * FROM weather WHERE Country='India';\n",
    "\n",
    "d) All the Fall records:\n",
    "\n",
    "SELECT * FROM weather WHERE Season='Fall';\n",
    "\n",
    "e) The city, country, and season for which the average rainfall is between 200 and 400 millimeters:\n",
    "\n",
    "SELECT City, Country, Season FROM weather\n",
    "GROUP BY City, Country, Season\n",
    "HAVING AVG(Rainfall) BETWEEN 200 AND 400;\n",
    "\n",
    "f) The city and country for which the average Fall temperature is above 20 degrees, in increasing temperature order:\n",
    "\n",
    "SELECT City, Country FROM weather\n",
    "WHERE Season='Fall' AND Temperature > 20\n",
    "GROUP BY City, Country\n",
    "ORDER BY Temperature ASC;\n",
    "\n",
    "g) The total annual rainfall for Cairo:\n",
    "\n",
    "SELECT SUM(Rainfall) AS Total_Rainfall FROM weather\n",
    "WHERE City='Cairo';\n",
    "\n",
    "h) The total rainfall for each season:\n",
    "\n",
    "SELECT Season, SUM(Rainfall) AS Total_Rainfall FROM weather\n",
    "GROUP BY Season;"
   ]
  },
  {
   "cell_type": "markdown",
   "id": "42f94532",
   "metadata": {},
   "source": [
    "# Question 9"
   ]
  },
  {
   "cell_type": "code",
   "execution_count": 15,
   "id": "a3490607",
   "metadata": {},
   "outputs": [
    {
     "name": "stdout",
     "output_type": "stream",
     "text": [
      "['THE', 'QUICK', 'BROWN', 'FOX', 'JUMPS', 'OVER', 'THE', 'LAZY', 'DOG']\n",
      "['the', 'quick', 'brown', 'fox', 'jumps', 'over', 'the', 'lazy', 'dog']\n",
      "[3, 5, 5, 3, 5, 4, 3, 4, 3]\n",
      "[['THE', 'the', 3], ['QUICK', 'quick', 5], ['BROWN', 'brown', 5], ['FOX', 'fox', 3], ['JUMPS', 'jumps', 5], ['OVER', 'over', 4], ['THE', 'the', 3], ['LAZY', 'lazy', 4], ['DOG', 'dog', 3]]\n",
      "['quick', 'brown', 'jumps', 'over', 'lazy']\n"
     ]
    }
   ],
   "source": [
    "words = ['The', 'quick', 'brown', 'fox', 'jumps', 'over', 'the', 'lazy', 'dog']\n",
    "\n",
    "# a) list of words in all uppercase\n",
    "uppercase_words = [word.upper() for word in words]\n",
    "\n",
    "# b) list of words in all lowercase\n",
    "lowercase_words = [word.lower() for word in words]\n",
    "\n",
    "# c) list of word lengths\n",
    "word_lengths = [len(word) for word in words]\n",
    "\n",
    "# d) list of lists containing uppercase, lowercase, and length of each word\n",
    "word_info = [[word.upper(), word.lower(), len(word)] for word in words]\n",
    "\n",
    "# e) list of words containing 4 or more characters\n",
    "long_words = [word for word in words if len(word) >= 4]\n",
    "\n",
    "print(uppercase_words)\n",
    "print(lowercase_words)\n",
    "print(word_lengths)\n",
    "print(word_info)\n",
    "print(long_words)"
   ]
  }
 ],
 "metadata": {
  "kernelspec": {
   "display_name": "Python 3 (ipykernel)",
   "language": "python",
   "name": "python3"
  },
  "language_info": {
   "codemirror_mode": {
    "name": "ipython",
    "version": 3
   },
   "file_extension": ".py",
   "mimetype": "text/x-python",
   "name": "python",
   "nbconvert_exporter": "python",
   "pygments_lexer": "ipython3",
   "version": "3.9.13"
  }
 },
 "nbformat": 4,
 "nbformat_minor": 5
}
